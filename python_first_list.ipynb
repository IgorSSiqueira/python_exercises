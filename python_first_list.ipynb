{
 "cells": [
  {
   "cell_type": "markdown",
   "metadata": {},
   "source": [
    "#### 1 - Calculadora simples: Crie um programa que solicita dois números ao usuário e realiza as quatro operações básicas (+, -, *, /) com esses números."
   ]
  },
  {
   "cell_type": "code",
   "execution_count": 1,
   "metadata": {},
   "outputs": [
    {
     "name": "stdout",
     "output_type": "stream",
     "text": [
      "operacoes para celeção\n",
      "1: +\n",
      "2: -\n",
      "3: /\n",
      "4: *\n",
      "Resultado: -3.00\n"
     ]
    }
   ],
   "source": [
    "#Poderia fazer validações para verificar se é um número ou não.\n",
    "\n",
    "n1 = float(input('Digite o primeiro nro: '))\n",
    "\n",
    "print('operacoes para celeção\\n1: +\\n2: -\\n3: /\\n4: *')\n",
    "\n",
    "operacao = int(input('Digite o número referente à operação escolhida: '))\n",
    "\n",
    "if (operacao < 1) | (operacao > 4): \n",
    "    print('Selecione uma operação válida')\n",
    "    while (operacao < 1) | (operacao >  4):\n",
    "        operacao = int(input('Digite o número referente à operação escolhida: '))\n",
    "        \n",
    "        if (operacao < 1) | (operacao > 4):\n",
    "            print('Selecione uma operação válida')\n",
    "\n",
    "n2 = float(input('Digite o segundo número: '))\n",
    "\n",
    "if operacao == 1:\n",
    "    print(f'Resultado: {n1 + n2:.2f}')\n",
    "elif operacao == 2:\n",
    "    print(f'Resultado: {n1 - n2:.2f}')\n",
    "elif operacao == 3:\n",
    "    print(f'Resultado: {n1 / n2:.2f}')\n",
    "elif operacao == 4:\n",
    "    print(f'Resultado: {n1 * n2:.2f}')\n",
    "\n"
   ]
  },
  {
   "cell_type": "markdown",
   "metadata": {},
   "source": [
    "#### 2 - Verificador de número primo: Escreva um programa que verifica se um número fornecido pelo usuário é primo ou não."
   ]
  },
  {
   "cell_type": "code",
   "execution_count": null,
   "metadata": {},
   "outputs": [],
   "source": [
    "import math\n",
    "\n",
    "def is_prime(nro):\n",
    "    if nro <= 1:\n",
    "        print('Número menor ou igual a 1 não é primo!')\n",
    "        return 0\n",
    "    elif nro <= 3:\n",
    "        print('Número 2 ou 3 é primo!')\n",
    "        return 0\n",
    "    elif nro % 2 == 0:\n",
    "        return 2\n",
    "    elif nro % 3 == 0:\n",
    "        return 3\n",
    "    else:\n",
    "        max_divisor = math.isqrt(nro)\n",
    "        for d in range(3, max_divisor + 1, 2):\n",
    "            if nro % d == 0:\n",
    "                return d\n",
    "    return 0 \n",
    "\n",
    "numero = int(input('Digite o número que deseja saber se é primo ou não: '))\n",
    "\n",
    "eh_primo = is_prime(numero)\n",
    "\n",
    "if is_prime(numero) == 0:\n",
    "    print(f'O número {numero} é primo!')\n",
    "else:\n",
    "    print(f'O número {numero} não é primo, ele é divisível por {eh_primo}')"
   ]
  },
  {
   "cell_type": "markdown",
   "metadata": {},
   "source": [
    "#### 3 - Conversor de temperatura: Crie um programa que converte uma temperatura em graus Celsius para Fahrenheit e vice-versa, solicitando ao usuário que escolha a conversão desejada."
   ]
  },
  {
   "cell_type": "markdown",
   "metadata": {},
   "source": [
    "Para Fahrenheit: Multiplicar a temperatura em graus Celsius por 1,8 e somar 32.\n",
    "\n",
    "Para Celsius: Subtraímos a temperatura em ºF por 32 e dividimos o resultado por 1,8."
   ]
  },
  {
   "cell_type": "code",
   "execution_count": 7,
   "metadata": {},
   "outputs": [
    {
     "name": "stdout",
     "output_type": "stream",
     "text": [
      "O valor convertido é: 30.00\n"
     ]
    }
   ],
   "source": [
    "def realizar_conversao(graus, op):\n",
    "    if op == 1:\n",
    "        return (graus * 1.8) + 32\n",
    "    else:\n",
    "        return (graus - 32)/1.8\n",
    "\n",
    "Temp = float(input('Digite a temperatura para conversão: '))\n",
    "\n",
    "op=0\n",
    "\n",
    "while (op < 1) or (op > 2):\n",
    "    op = int(input('Selecione a opção para conversão!\\n1 - ºF\\n2 - ºC\\nSelecione uma: '))\n",
    "\n",
    "    if (op < 1) or (op > 2):\n",
    "        print('Opção inexistente!')\n",
    "        \n",
    "\n",
    "print(f'O valor convertido é: {realizar_conversao(Temp, op):.2f}')"
   ]
  },
  {
   "cell_type": "markdown",
   "metadata": {},
   "source": [
    "\n",
    "#### 4 - Fatorial: Escreva uma função que calcula o fatorial de um número fornecido pelo usuário."
   ]
  },
  {
   "cell_type": "code",
   "execution_count": null,
   "metadata": {},
   "outputs": [],
   "source": []
  },
  {
   "cell_type": "markdown",
   "metadata": {},
   "source": [
    "#### 5 - Contador de vogais: Faça um programa que conte o número de vogais em uma palavra fornecida pelo usuário.\n",
    "\n"
   ]
  },
  {
   "cell_type": "code",
   "execution_count": null,
   "metadata": {},
   "outputs": [],
   "source": []
  },
  {
   "cell_type": "markdown",
   "metadata": {},
   "source": [
    "#### 6 - Jogo da forca: Desenvolva o clássico jogo da forca em Python, onde o computador escolhe uma palavra aleatória e o jogador tenta adivinhar a palavra letra por letra.\n",
    "\n"
   ]
  },
  {
   "cell_type": "code",
   "execution_count": null,
   "metadata": {},
   "outputs": [],
   "source": []
  },
  {
   "cell_type": "markdown",
   "metadata": {},
   "source": [
    "#### 7 - Calculadora de IMC: Crie um programa que calcula o Índice de Massa Corporal (IMC) com base no peso e altura fornecidos pelo usuário.\n",
    "\n"
   ]
  },
  {
   "cell_type": "code",
   "execution_count": null,
   "metadata": {},
   "outputs": [],
   "source": []
  },
  {
   "cell_type": "code",
   "execution_count": null,
   "metadata": {},
   "outputs": [],
   "source": []
  },
  {
   "cell_type": "markdown",
   "metadata": {},
   "source": [
    "#### 8 - Validador de CPF: Escreva uma função que valide se um CPF fornecido pelo usuário é válido ou não.\n",
    "\n"
   ]
  },
  {
   "cell_type": "code",
   "execution_count": null,
   "metadata": {},
   "outputs": [],
   "source": []
  },
  {
   "cell_type": "markdown",
   "metadata": {},
   "source": [
    "#### 9 - Ordenação de lista: Escreva um programa que ordena uma lista de números fornecidos pelo usuário em ordem crescente ou decrescente, dependendo da escolha do usuário.\n",
    "\n"
   ]
  },
  {
   "cell_type": "code",
   "execution_count": null,
   "metadata": {},
   "outputs": [],
   "source": []
  },
  {
   "cell_type": "markdown",
   "metadata": {},
   "source": [
    "#### 10 - Conversor de moeda: Desenvolva um programa que converte uma quantidade de uma moeda para outra, utilizando taxas de câmbio fornecidas pelo usuário."
   ]
  },
  {
   "cell_type": "code",
   "execution_count": null,
   "metadata": {},
   "outputs": [],
   "source": []
  }
 ],
 "metadata": {
  "kernelspec": {
   "display_name": "Python 3",
   "language": "python",
   "name": "python3"
  },
  "language_info": {
   "codemirror_mode": {
    "name": "ipython",
    "version": 3
   },
   "file_extension": ".py",
   "mimetype": "text/x-python",
   "name": "python",
   "nbconvert_exporter": "python",
   "pygments_lexer": "ipython3",
   "version": "3.12.1"
  }
 },
 "nbformat": 4,
 "nbformat_minor": 2
}
